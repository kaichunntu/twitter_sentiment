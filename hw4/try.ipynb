{
 "cells": [
  {
   "cell_type": "code",
   "execution_count": 1,
   "metadata": {},
   "outputs": [
    {
     "name": "stderr",
     "output_type": "stream",
     "text": [
      "Using TensorFlow backend.\n"
     ]
    }
   ],
   "source": [
    "from keras import utils\n",
    "\n",
    "from keras.models import Sequential ,Model\n",
    "from keras.layers import Input , Dense,Dropout,Flatten , BatchNormalization , Concatenate\n",
    "from keras.layers import LSTM , Conv1D , ZeroPadding1D , MaxPooling1D ,AveragePooling1D\n",
    "from keras.layers.embeddings import Embedding\n",
    "from keras.preprocessing import sequence,text\n",
    "\n",
    "from keras import regularizers\n",
    "from keras.callbacks import EarlyStopping , History"
   ]
  },
  {
   "cell_type": "code",
   "execution_count": 4,
   "metadata": {},
   "outputs": [
    {
     "name": "stdout",
     "output_type": "stream",
     "text": [
      "load model...\n",
      "Weight_matrix shape :  (53150, 128)\n"
     ]
    }
   ],
   "source": [
    "import os\n",
    "\n",
    "import numpy as np\n",
    "import matplotlib.pyplot as plt\n",
    "import pickle\n",
    "from gensim.models import Word2Vec\n",
    "\n",
    "para_path='/home/derricksu/model_para/CRNN_2nd'\n",
    "word2vec_path = os.path.join(para_path , 'word2vec.bin')\n",
    "print(\"load model...\") \n",
    "my_word2vec = Word2Vec.load(word2vec_path)\n",
    "#print(my_word2vec)\n",
    "\n",
    "word_freq_path = os.path.join(para_path , 'word_freq.pk')\n",
    "vocab = dict([(k, v.index) for k, v in my_word2vec.wv.vocab.items()])\n",
    "weight_matrix = my_word2vec.wv.syn0 #word_to_vec\n",
    "print(\"Weight_matrix shape : \" , weight_matrix.shape)\n",
    "del my_word2vec\n",
    "\n",
    "\n",
    "with open(word_freq_path,\"rb\") as pk:\n",
    "    word_freq = pickle.load(pk)\n",
    "    pk.close()"
   ]
  },
  {
   "cell_type": "code",
   "execution_count": 6,
   "metadata": {
    "scrolled": true
   },
   "outputs": [
    {
     "name": "stdout",
     "output_type": "stream",
     "text": [
      "_________________________________________________________________\n",
      "Layer (type)                 Output Shape              Param #   \n",
      "=================================================================\n",
      "embedding_1 (Embedding)      (None, 100, 128)          6803200   \n",
      "_________________________________________________________________\n",
      "lstm_1 (LSTM)                (None, 100, 256)          394240    \n",
      "_________________________________________________________________\n",
      "dropout_1 (Dropout)          (None, 100, 256)          0         \n",
      "_________________________________________________________________\n",
      "lstm_2 (LSTM)                (None, 128)               197120    \n",
      "_________________________________________________________________\n",
      "dropout_2 (Dropout)          (None, 128)               0         \n",
      "_________________________________________________________________\n",
      "dense_1 (Dense)              (None, 512)               66048     \n",
      "_________________________________________________________________\n",
      "dropout_3 (Dropout)          (None, 512)               0         \n",
      "_________________________________________________________________\n",
      "dense_2 (Dense)              (None, 256)               131328    \n",
      "_________________________________________________________________\n",
      "dropout_4 (Dropout)          (None, 256)               0         \n",
      "_________________________________________________________________\n",
      "dense_3 (Dense)              (None, 2)                 514       \n",
      "=================================================================\n",
      "Total params: 7,592,450\n",
      "Trainable params: 7,592,450\n",
      "Non-trainable params: 0\n",
      "_________________________________________________________________\n",
      "None\n"
     ]
    }
   ],
   "source": [
    "def build(weight_matrix , vocab):\n",
    "    embedding_vecor_length = weight_matrix.shape[1]\n",
    "    word_total_index = len(vocab)\n",
    "    max_review_length = 100\n",
    "    \n",
    "    forget_bias_bool=True #default is False\n",
    "    recu_drop_rate=0.2\n",
    "    drop_rate=0.2\n",
    "    back_bool=False #default False\n",
    "    unroll_bool=True #default is False. This can speed up but consume more memory\n",
    "    multi_layer_bool=True #default False\n",
    "\n",
    "    model = Sequential()\n",
    "    model.add(Embedding(word_total_index, embedding_vecor_length, input_length=max_review_length,\n",
    "                       weights = [weight_matrix]))\n",
    "    \n",
    "\n",
    "    model.add(LSTM(256,\n",
    "                  unit_forget_bias=forget_bias_bool,\n",
    "                  recurrent_dropout=recu_drop_rate,\n",
    "                  dropout=drop_rate,\n",
    "                  go_backwards=back_bool,\n",
    "                  unroll=unroll_bool,\n",
    "                  return_sequences=multi_layer_bool )) \n",
    "                   # Control output of this layer , return a decoded sequence whose dimension is same as input\n",
    "    model.add(Dropout(0.2))\n",
    "\n",
    "    model.add(LSTM(128,\n",
    "                  unit_forget_bias=forget_bias_bool,\n",
    "                  recurrent_dropout=recu_drop_rate,\n",
    "                  dropout=drop_rate,\n",
    "                  go_backwards=False,\n",
    "                  unroll=unroll_bool))\n",
    "    model.add(Dropout(0.2))\n",
    "\n",
    "    model.add(Dense(512,activation='relu'))\n",
    "    model.add(Dropout(0.5))\n",
    "    \n",
    "    model.add(Dense(256,activation='relu'))\n",
    "    model.add(Dropout(0.5))\n",
    "    \n",
    "    #model.add(Dense(128,activation='relu'))\n",
    "    #model.add(Dropout(0.5))\n",
    "    \n",
    "    model.add(Dense(2, activation='softmax'))\n",
    "    model.compile(loss='categorical_crossentropy', optimizer='adam', metrics=['categorical_accuracy'])\n",
    "    print(model.summary())\n",
    "\n",
    "    return model\n",
    "model=build(weight_matrix , vocab)"
   ]
  },
  {
   "cell_type": "code",
   "execution_count": 2,
   "metadata": {},
   "outputs": [
    {
     "ename": "ValueError",
     "evalue": "All layers in a Sequential model should have a single output tensor. For multi-output layers, use the functional API.",
     "output_type": "error",
     "traceback": [
      "\u001b[0;31m---------------------------------------------------------------------------\u001b[0m",
      "\u001b[0;31mValueError\u001b[0m                                Traceback (most recent call last)",
      "\u001b[0;32m<ipython-input-2-80800a5b216f>\u001b[0m in \u001b[0;36m<module>\u001b[0;34m()\u001b[0m\n\u001b[1;32m     15\u001b[0m \u001b[0;31m# create LSTM\u001b[0m\u001b[0;34m\u001b[0m\u001b[0;34m\u001b[0m\u001b[0m\n\u001b[1;32m     16\u001b[0m \u001b[0mmodel\u001b[0m \u001b[0;34m=\u001b[0m \u001b[0mSequential\u001b[0m\u001b[0;34m(\u001b[0m\u001b[0;34m)\u001b[0m\u001b[0;34m\u001b[0m\u001b[0m\n\u001b[0;32m---> 17\u001b[0;31m \u001b[0mmodel\u001b[0m\u001b[0;34m.\u001b[0m\u001b[0madd\u001b[0m\u001b[0;34m(\u001b[0m\u001b[0mLSTM\u001b[0m\u001b[0;34m(\u001b[0m\u001b[0mn_neurons\u001b[0m\u001b[0;34m,\u001b[0m \u001b[0minput_shape\u001b[0m\u001b[0;34m=\u001b[0m\u001b[0;34m(\u001b[0m\u001b[0mlength\u001b[0m\u001b[0;34m,\u001b[0m \u001b[0;36m2\u001b[0m\u001b[0;34m)\u001b[0m\u001b[0;34m,\u001b[0m \u001b[0mreturn_state\u001b[0m\u001b[0;34m=\u001b[0m\u001b[0;32mTrue\u001b[0m\u001b[0;34m,\u001b[0m\u001b[0mreturn_sequences\u001b[0m\u001b[0;34m=\u001b[0m\u001b[0;32mFalse\u001b[0m\u001b[0;34m)\u001b[0m\u001b[0;34m)\u001b[0m\u001b[0;34m\u001b[0m\u001b[0m\n\u001b[0m\u001b[1;32m     18\u001b[0m \u001b[0;31m#model.add(TimeDistributed(Dense(1)))\u001b[0m\u001b[0;34m\u001b[0m\u001b[0;34m\u001b[0m\u001b[0m\n\u001b[1;32m     19\u001b[0m \u001b[0mmodel\u001b[0m\u001b[0;34m.\u001b[0m\u001b[0mcompile\u001b[0m\u001b[0;34m(\u001b[0m\u001b[0mloss\u001b[0m\u001b[0;34m=\u001b[0m\u001b[0;34m'mean_squared_error'\u001b[0m\u001b[0;34m,\u001b[0m \u001b[0moptimizer\u001b[0m\u001b[0;34m=\u001b[0m\u001b[0;34m'adam'\u001b[0m\u001b[0;34m)\u001b[0m\u001b[0;34m\u001b[0m\u001b[0m\n",
      "\u001b[0;32m/usr/local/lib/python3.5/dist-packages/keras/models.py\u001b[0m in \u001b[0;36madd\u001b[0;34m(self, layer)\u001b[0m\n\u001b[1;32m    451\u001b[0m \u001b[0;34m\u001b[0m\u001b[0m\n\u001b[1;32m    452\u001b[0m             \u001b[0;32mif\u001b[0m \u001b[0mlen\u001b[0m\u001b[0;34m(\u001b[0m\u001b[0mlayer\u001b[0m\u001b[0;34m.\u001b[0m\u001b[0minbound_nodes\u001b[0m\u001b[0;34m[\u001b[0m\u001b[0;36m0\u001b[0m\u001b[0;34m]\u001b[0m\u001b[0;34m.\u001b[0m\u001b[0moutput_tensors\u001b[0m\u001b[0;34m)\u001b[0m \u001b[0;34m!=\u001b[0m \u001b[0;36m1\u001b[0m\u001b[0;34m:\u001b[0m\u001b[0;34m\u001b[0m\u001b[0m\n\u001b[0;32m--> 453\u001b[0;31m                 raise ValueError('All layers in a Sequential model '\n\u001b[0m\u001b[1;32m    454\u001b[0m                                  \u001b[0;34m'should have a single output tensor. '\u001b[0m\u001b[0;34m\u001b[0m\u001b[0m\n\u001b[1;32m    455\u001b[0m                                  \u001b[0;34m'For multi-output layers, '\u001b[0m\u001b[0;34m\u001b[0m\u001b[0m\n",
      "\u001b[0;31mValueError\u001b[0m: All layers in a Sequential model should have a single output tensor. For multi-output layers, use the functional API."
     ]
    }
   ],
   "source": [
    "from numpy import array\n",
    "from keras.models import Sequential\n",
    "from keras.layers import Dense\n",
    "from keras.layers import TimeDistributed\n",
    "from keras.layers import LSTM\n",
    "# prepare sequence\n",
    "length = 5\n",
    "seq = array([i/float(length) for i in range(length*4)])\n",
    "X = seq.reshape(-1, length, 2)\n",
    "y = seq.reshape(-1, length, 2)\n",
    "# define LSTM configuration\n",
    "n_neurons = 1#length\n",
    "n_batch = 1\n",
    "n_epoch = 1000\n",
    "# create LSTM\n",
    "model = Sequential()\n",
    "model.add(LSTM(n_neurons, input_shape=(length, 2), return_state=True,return_sequences=False))\n",
    "#model.add(TimeDistributed(Dense(1)))\n",
    "model.compile(loss='mean_squared_error', optimizer='adam')\n",
    "print(model.summary())\n",
    "# train LSTM\n",
    "#model.fit(X, y, epochs=n_epoch, batch_size=n_batch, verbose=0)\n",
    "# evaluate\n",
    "result = model.predict(X, batch_size=n_batch, verbose=0)\n",
    "print(result)"
   ]
  },
  {
   "cell_type": "code",
   "execution_count": 47,
   "metadata": {},
   "outputs": [
    {
     "name": "stdout",
     "output_type": "stream",
     "text": [
      "[array([[-0.10850199]], dtype=float32), array([[-0.10850199]], dtype=float32), array([[-0.27010906]], dtype=float32)]\n"
     ]
    }
   ],
   "source": [
    "from keras.models import Model\n",
    "from keras.layers import Input\n",
    "from keras.layers import LSTM\n",
    "from numpy import array\n",
    "# define model\n",
    "inputs1 = Input(shape=(3, 2))\n",
    "lstm1, state_h, state_c = LSTM(1, return_state=True)(inputs1)\n",
    "model = Model(inputs=inputs1, outputs=[lstm1, state_h, state_c])\n",
    "# define input data\n",
    "data = array([0.1, 0.2, 0.3,0.2,0.4,0.6]).reshape((1,3,2))\n",
    "# make and show prediction\n",
    "print(model.predict(data))"
   ]
  },
  {
   "cell_type": "code",
   "execution_count": 48,
   "metadata": {},
   "outputs": [
    {
     "name": "stdout",
     "output_type": "stream",
     "text": [
      "[array([[[ 0.00820675],\n",
      "        [ 0.01939096],\n",
      "        [ 0.0311997 ]]], dtype=float32), array([[ 0.0311997]], dtype=float32), array([[ 0.06879383]], dtype=float32)]\n"
     ]
    }
   ],
   "source": [
    "from keras.models import Model\n",
    "from keras.layers import Input\n",
    "from keras.layers import LSTM\n",
    "from numpy import array\n",
    "# define model\n",
    "inputs1 = Input(shape=(3, 2))\n",
    "lstm1, state_h, state_c = LSTM(1, return_sequences=True, return_state=True)(inputs1)\n",
    "model = Model(inputs=inputs1, outputs=[lstm1, state_h, state_c])\n",
    "# define input data\n",
    "data = array([0.1, 0.2, 0.3 , 0.2,0.4,0.6]).reshape((1,3,1))\n",
    "# make and show prediction\n",
    "print(model.predict(data))"
   ]
  },
  {
   "cell_type": "code",
   "execution_count": null,
   "metadata": {},
   "outputs": [],
   "source": []
  }
 ],
 "metadata": {
  "kernelspec": {
   "display_name": "Python 3",
   "language": "python",
   "name": "python3"
  },
  "language_info": {
   "codemirror_mode": {
    "name": "ipython",
    "version": 3
   },
   "file_extension": ".py",
   "mimetype": "text/x-python",
   "name": "python",
   "nbconvert_exporter": "python",
   "pygments_lexer": "ipython3",
   "version": "3.5.2"
  }
 },
 "nbformat": 4,
 "nbformat_minor": 2
}
