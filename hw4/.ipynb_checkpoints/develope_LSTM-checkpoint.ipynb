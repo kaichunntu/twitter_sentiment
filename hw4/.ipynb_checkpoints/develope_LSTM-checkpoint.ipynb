{
 "cells": [
  {
   "cell_type": "markdown",
   "metadata": {},
   "source": [
    "## Train a word2vec\n",
    "\n",
    "tutorial\n",
    "\n",
    "http://adventuresinmachinelearning.com/gensim-word2vec-tutorial/\n",
    "\n"
   ]
  },
  {
   "cell_type": "code",
   "execution_count": 1,
   "metadata": {},
   "outputs": [],
   "source": [
    "import os\n",
    "\n",
    "import numpy as np\n",
    "import matplotlib.pyplot as plt\n",
    "\n",
    "from gensim.models import Word2Vec\n",
    "\n",
    "model=None\n",
    "para_path = '/home/derricksu/model_para/CRNN_2nd'\n",
    "if not os.path.exists(para_path):\n",
    "    os.mkdir(para_path)"
   ]
  },
  {
   "cell_type": "code",
   "execution_count": 2,
   "metadata": {},
   "outputs": [],
   "source": [
    "# The function \"text_to_wordlist\" is from\n",
    "# https://www.kaggle.com/currie32/quora-question-pairs/the-importance-of-cleaning-text\n",
    "def text_to_wordlist(text, remove_stopwords=False, stem_words=False):\n",
    "    # Clean the text, with the option to remove stopwords and to stem words.\n",
    "    import re\n",
    "    # Convert words to lower case and split them\n",
    "    text = text.lower().split()\n",
    "\n",
    "    # Optionally, remove stop words\n",
    "    if remove_stopwords:\n",
    "        stops = set(stopwords.words(\"english\"))\n",
    "        text = [w for w in text if not w in stops]\n",
    "    \n",
    "    text = \" \".join(text)\n",
    "\n",
    "    # Clean the text\n",
    "    text = re.sub(r\"[^A-Za-z0-9,!.\\/'-=?]\", \" \", text) # origin is [^A-Za-z0-9^,!.\\/'+-=?]\n",
    "    text = re.sub(r\"what ' s\", \"what is \", text)\n",
    "    # my turn\n",
    "    text = re.sub(r\"he ' s\", \"he is\", text)\n",
    "    text = re.sub(r\"she ' s\", \"she is\", text)\n",
    "    text = re.sub(r\"it ' s\", \"it is\", text)\n",
    "    text = re.sub(r\"let ' s\", \"let us\", text)\n",
    "    text = re.sub(r\"can ' t\", \"can not \", text)\n",
    "    text = re.sub(r\"4get\", \"forget \", text)\n",
    "    text = re.sub(r\"coo[o]+\", \"cooo\", text)\n",
    "    text = re.sub(r\"so[o]+\", \"sooo \", text)\n",
    "    text = re.sub(r\" [0-9]+ : [0-9]+\", \" aa:bb \", text) #時間\n",
    "    text = re.sub(r\" [0-9]+\", \" \", text) #去除純數字\n",
    "    text = re.sub(r\"\\?\", \" ? \", text)\n",
    "    text = re.sub(r\"\\.\\.[\\.]+\", \" a... \", text)\n",
    "    text = re.sub(r\"uh[h]+\", \" uh \", text)\n",
    "    text = re.sub(r\"zz[z]+\", \" zzz \", text)\n",
    "    text = re.sub(r\"loo[o]+l\", \" lool \", text)\n",
    "    text = re.sub(r\" \\.\\.\", \" \", text)\n",
    "    \n",
    "    #end my turn\n",
    "    text = re.sub(r\"\\' s\", \" \", text)\n",
    "    text = re.sub(r\"\\' ve\", \" have \", text)\n",
    "    text = re.sub(r\"can ' t\", \"can not \", text)\n",
    "    text = re.sub(r\"n ' t\", \" not \", text)\n",
    "    text = re.sub(r\"i ' m\", \"i am \", text)\n",
    "    text = re.sub(r\"\\' re\", \" are \", text)\n",
    "    text = re.sub(r\"\\' d\", \" would \", text)\n",
    "    text = re.sub(r\"\\' ll\", \" will \", text)\n",
    "    text = re.sub(r\",\", \" \", text)\n",
    "    text = re.sub(r\" \\.\", \" \", text)\n",
    "    \n",
    "    text = re.sub(r\"!![!]+\", \" !!! \", text)\n",
    "    text = re.sub(r\"\\/\", \" \", text)\n",
    "    #text = re.sub(r\"\\^\", \" ^ \", text)\n",
    "    #text = re.sub(r\"\\+\", \" + \", text)\n",
    "    text = re.sub(r\"e - mail\", \"email\", text)\n",
    "    text = re.sub(r\"\\-\", \" - \", text)\n",
    "    text = re.sub(r\" \\=\", \" \", text)\n",
    "    text = re.sub(r\"'\", \" \", text)\n",
    "    text = re.sub(r\"(\\d+)(k)\", r\"\\g<1>000\", text)\n",
    "    text = re.sub(r\" : \", \" : \", text)\n",
    "    text = re.sub(r\" e g \", \" eg \", text)\n",
    "    text = re.sub(r\" b g \", \" bg \", text)\n",
    "    #text = re.sub(r\" u s \", \" american \", text)\n",
    "    #text = re.sub(r\"\\0s\", \"0\", text)\n",
    "    #text = re.sub(r\" 9 11 \", \"911\", text)\n",
    "    text = re.sub(r\"j k\", \"jk\", text)\n",
    "    text = re.sub(r\"\\s{2,}\", \" \", text)\n",
    "    \n",
    "    # Optionally, shorten words to their stems\n",
    "    if stem_words:\n",
    "        text = text.split()\n",
    "        stemmer = SnowballStemmer('english')\n",
    "        stemmed_words = [stemmer.stem(word) for word in text]\n",
    "        text = \" \".join(stemmed_words)\n",
    "    \n",
    "    # Return a list of words\n",
    "    return text"
   ]
  },
  {
   "cell_type": "code",
   "execution_count": 3,
   "metadata": {},
   "outputs": [
    {
     "data": {
      "text/plain": [
       "'a aa:bb email'"
      ]
     },
     "execution_count": 3,
     "metadata": {},
     "output_type": "execute_result"
    }
   ],
   "source": [
    "text_to_wordlist(\"a 33 : 33 ..  e - mail\")"
   ]
  },
  {
   "cell_type": "markdown",
   "metadata": {},
   "source": [
    "## Loading data"
   ]
  },
  {
   "cell_type": "code",
   "execution_count": 4,
   "metadata": {},
   "outputs": [],
   "source": [
    "nolabel = np.load(\"/home/derricksu/ML_data/hw4/train_nolabel.npy\")\n",
    "train_path = \"/home/derricksu/ML_data/hw4/train.npy\"\n",
    "train = np.load(train_path)\n",
    "test_path = \"/home/derricksu/ML_data/hw4/test.npy\"\n",
    "test = np.load(test_path)"
   ]
  },
  {
   "cell_type": "markdown",
   "metadata": {},
   "source": [
    "可考慮字出現次數來篩選"
   ]
  },
  {
   "cell_type": "code",
   "execution_count": 5,
   "metadata": {
    "scrolled": true
   },
   "outputs": [
    {
     "name": "stdout",
     "output_type": "stream",
     "text": [
      "After nolabel: 229954\n",
      "After label: 235898\n",
      "After test: 241758\n"
     ]
    }
   ],
   "source": [
    "from collections import defaultdict\n",
    "\n",
    "# Record frequency of each word\n",
    "word_freq=defaultdict(int)\n",
    "\n",
    "# nolabel\n",
    "sentence = []\n",
    "for row in nolabel:\n",
    "    x = text_to_wordlist(row).split()\n",
    "    sentence.append(x)\n",
    "    for s in x:\n",
    "        word_freq[s]+=1\n",
    "\n",
    "print(\"After nolabel: %d\" % len(word_freq))\n",
    "\n",
    "# label\n",
    "X_data = train[:,1]\n",
    "y_data = train[:,0].astype('int')\n",
    "\n",
    "\n",
    "train_sentence = []\n",
    "\n",
    "for i,row in enumerate(X_data):\n",
    "    x = text_to_wordlist(row).split()\n",
    "    train_sentence.append(x)\n",
    "    for s in x:\n",
    "        word_freq[s]+=1\n",
    "print(\"After label: %d\" % len(word_freq))\n",
    "\n",
    "test_sentence = []\n",
    "for i,row in enumerate(test[1::,1]): #第一列不為name\n",
    "    x = text_to_wordlist(row).split()\n",
    "    test_sentence.append(x)\n",
    "    for s in x:\n",
    "        word_freq[s]+=1\n",
    "print(\"After test: %d\" % len(word_freq))\n"
   ]
  },
  {
   "cell_type": "code",
   "execution_count": 6,
   "metadata": {},
   "outputs": [
    {
     "name": "stdout",
     "output_type": "stream",
     "text": [
      "Count already.\n"
     ]
    }
   ],
   "source": [
    "## record freq<5\n",
    "\n",
    "count_less5=[]\n",
    "count=[]\n",
    "for key in word_freq.keys():\n",
    "    if word_freq[key]<5:\n",
    "        count_less5.append((key,word_freq[key]))\n",
    "        count.append(word_freq[key])\n",
    "print(\"Count already.\")"
   ]
  },
  {
   "cell_type": "code",
   "execution_count": 7,
   "metadata": {},
   "outputs": [
    {
     "data": {
      "text/plain": [
       "(1.5900279945707498, 0.84853927416069663)"
      ]
     },
     "execution_count": 7,
     "metadata": {},
     "output_type": "execute_result"
    }
   ],
   "source": [
    "np.array(count).mean() , np.array(count).std()"
   ]
  },
  {
   "cell_type": "code",
   "execution_count": null,
   "metadata": {},
   "outputs": [
    {
     "name": "stdout",
     "output_type": "stream",
     "text": [
      "word_freq is already\n"
     ]
    }
   ],
   "source": [
    "import pickle\n",
    "save_dict = True\n",
    "\n",
    "word_freq_path = os.path.join(para_path , 'word_freq.pk')\n",
    "if save_dict:\n",
    "    with open(word_freq_path,\"wb\") as pk:\n",
    "        pickle.dump( word_freq,pk )\n",
    "        pk.close()\n",
    "else:\n",
    "    with open(word_freq_path,\"rb\") as pk:\n",
    "        word_freq = pickle.load(pk)\n",
    "        pk.close()\n",
    "        \n",
    "print(\"word_freq is already\")"
   ]
  },
  {
   "cell_type": "markdown",
   "metadata": {},
   "source": [
    "## Train a word2vec\n",
    "\n",
    "sg defines the training algorithm. By default (sg=0), CBOW is used. Otherwise (sg=1), skip-gram is employed."
   ]
  },
  {
   "cell_type": "code",
   "execution_count": null,
   "metadata": {
    "scrolled": true
   },
   "outputs": [
    {
     "name": "stdout",
     "output_type": "stream",
     "text": [
      "train model...\n"
     ]
    }
   ],
   "source": [
    "min_c = 3\n",
    "load_switch = False\n",
    "word2vec_path = os.path.join(para_path , 'word2vec.bin')\n",
    "\n",
    "if not load_switch:\n",
    "    print(\"train word2vec...\") \n",
    "    # sg defines the training algorithm. By default (sg=0), CBOW is used. Otherwise (sg=1), skip-gram is employed. window=12\n",
    "    my_word2vec = Word2Vec(sentence + train_sentence + test_sentence, sg = 0,#window=15,\n",
    "                           iter=30, min_count=min_c,size=128,workers=16)\n",
    "    # summarize the loaded model\n",
    "    print(my_word2vec)\n",
    "    # summarize vocabulary\n",
    "    words = list(my_word2vec.wv.vocab)\n",
    "    #print(words)\n",
    "    # access vector for one word\n",
    "    print(my_word2vec['sentence'].shape)\n",
    "    # save model\n",
    "    my_word2vec.save(word2vec_path)\n",
    "else:\n",
    "    print(\"load model...\") \n",
    "    my_word2vec = Word2Vec.load(word2vec_path)\n",
    "    #print(my_word2vec)\n",
    "\n",
    "vocab = dict([(k, v.index) for k, v in my_word2vec.wv.vocab.items()])\n",
    "weight_matrix = my_word2vec.wv.syn0 #word_to_vec\n",
    "print(\"Weight_matrix shape : \" , weight_matrix.shape)\n",
    "del my_word2vec\n",
    "\n",
    "print(\"word2vec is already.\")"
   ]
  },
  {
   "cell_type": "markdown",
   "metadata": {},
   "source": [
    "## word to index"
   ]
  },
  {
   "cell_type": "code",
   "execution_count": null,
   "metadata": {},
   "outputs": [],
   "source": [
    "# word to idx of train\n",
    "\n",
    "train_word2idx=[]\n",
    "for row in train_sentence:\n",
    "    idx = []\n",
    "    for word in row:\n",
    "        if word_freq[word]>=min_c:\n",
    "            idx.append(vocab[word])\n",
    "    train_word2idx.append(idx)\n",
    "\n",
    "print(\"Length of train_sentence : \",len(train_sentence))\n",
    "print(\"Length of train_word2idx : \",len(train_word2idx))\n",
    "\n",
    "max_len = 0\n",
    "for row in train_word2idx:\n",
    "    if max_len <len(row):\n",
    "        max_len = len(row)\n",
    "print(\"Max length of train sentence : \",max_len)"
   ]
  },
  {
   "cell_type": "code",
   "execution_count": null,
   "metadata": {},
   "outputs": [],
   "source": [
    "# word to idx of test\n",
    "\n",
    "test_word2idx=[]\n",
    "for row in test_sentence:\n",
    "    idx = []\n",
    "    for word in row:\n",
    "        if word_freq[word]>=min_c:\n",
    "            idx.append(vocab[word])\n",
    "    test_word2idx.append(idx)\n",
    "\n",
    "print(\"Length of test_sentence : \",len(test_sentence))\n",
    "print(\"Length of test_word2idx : \",len(test_word2idx))\n",
    "\n",
    "max_len = 0\n",
    "for row in train_word2idx:\n",
    "    if max_len <len(row):\n",
    "        max_len = len(row)\n",
    "print(\"Max length of test sentence : \",max_len)"
   ]
  },
  {
   "cell_type": "markdown",
   "metadata": {},
   "source": [
    "## LSTM start"
   ]
  },
  {
   "cell_type": "code",
   "execution_count": null,
   "metadata": {},
   "outputs": [],
   "source": [
    "from keras import utils\n",
    "\n",
    "from keras.models import Sequential ,Model\n",
    "from keras.layers import Input , Dense,Dropout,Flatten , BatchNormalization , Concatenate\n",
    "from keras.layers import LSTM , Conv1D , ZeroPadding1D , MaxPooling1D ,AveragePooling1D\n",
    "from keras.layers.embeddings import Embedding\n",
    "from keras.preprocessing import sequence,text\n",
    "\n",
    "from keras import regularizers\n",
    "from keras.callbacks import EarlyStopping , History\n",
    "\n",
    "Y_train = utils.to_categorical(y_data ,2)\n",
    "X_train = train_word2idx\n",
    "X_test = test_word2idx\n",
    "\n",
    "\n",
    "max_review_length = 100\n",
    "\n",
    "X_train = sequence.pad_sequences(X_train, maxlen=max_review_length)\n",
    "X_test = sequence.pad_sequences(X_test, maxlen=max_review_length)"
   ]
  },
  {
   "cell_type": "code",
   "execution_count": null,
   "metadata": {},
   "outputs": [],
   "source": [
    "## Simple model\n",
    "\n",
    "def build(weight_matrix , vocab):\n",
    "    embedding_vecor_length = weight_matrix.shape[1]\n",
    "    word_total_index = len(vocab)\n",
    "\n",
    "    forget_bias_bool=True #default is False\n",
    "    recu_drop_rate=0.2\n",
    "    drop_rate=0.2\n",
    "    back_bool=True #default False\n",
    "    unroll_bool=True #default is False. This can speed up but consume more memory\n",
    "    multi_layer_bool=True #default False\n",
    "\n",
    "    model = Sequential()\n",
    "    model.add(Embedding(word_total_index, embedding_vecor_length, input_length=max_review_length,\n",
    "                       weights = [weight_matrix]))\n",
    "    model.add(LSTM(384,\n",
    "                  unit_forget_bias=forget_bias_bool,\n",
    "                  recurrent_dropout=recu_drop_rate,\n",
    "                  dropout=drop_rate,\n",
    "                  go_backwards=back_bool,\n",
    "                  unroll=unroll_bool,\n",
    "                  return_sequences=multi_layer_bool )) \n",
    "                   # Control output of this layer , return a decoded sequence whose dimension is same as input\n",
    "\n",
    "    model.add(Dropout(0.2))\n",
    "\n",
    "    model.add(LSTM(256,\n",
    "                  unit_forget_bias=forget_bias_bool,\n",
    "                  recurrent_dropout=recu_drop_rate,\n",
    "                  dropout=drop_rate,\n",
    "                  go_backwards=False,\n",
    "                  unroll=unroll_bool))\n",
    "    model.add(Dropout(0.2))\n",
    "\n",
    "    model.add(Dense(512,activation='relu'))\n",
    "    model.add(Dropout(0.5))\n",
    "    \n",
    "    model.add(Dense(256,activation='relu'))\n",
    "    model.add(Dropout(0.5))\n",
    "    \n",
    "    model.add(Dense(128,activation='relu'))\n",
    "    model.add(Dropout(0.5))\n",
    "    \n",
    "    model.add(Dense(2, activation='softmax'))\n",
    "    model.compile(loss='categorical_crossentropy', optimizer='adam', metrics=['categorical_accuracy'])\n",
    "    print(model.summary())\n",
    "\n",
    "    return model\n",
    "\n",
    "try:\n",
    "    del model\n",
    "except NameError:\n",
    "    pass\n",
    "\n",
    "model = build(weight_matrix , vocab)\n",
    "    \n",
    "n_batch = 256\n",
    "n_epoch = 10\n",
    "\n",
    "earlystopping=EarlyStopping(monitor='val_categorical_accuracy', patience=3, verbose=0, mode='auto')\n",
    "history = History()\n",
    "\n",
    "hist_lstm_2 = model.fit(X_train , Y_train ,\n",
    "                      batch_size = n_batch,epochs=n_epoch,\n",
    "                      callbacks=[earlystopping,history],\n",
    "                      validation_split=0.1)"
   ]
  },
  {
   "cell_type": "code",
   "execution_count": null,
   "metadata": {
    "scrolled": true
   },
   "outputs": [
    {
     "name": "stdout",
     "output_type": "stream",
     "text": [
      "____________________________________________________________________________________________________\n",
      "Layer (type)                     Output Shape          Param #     Connected to                     \n",
      "====================================================================================================\n",
      "input_9 (InputLayer)             (None, 100)           0                                            \n",
      "____________________________________________________________________________________________________\n",
      "embedding_14 (Embedding)         (None, 100, 128)      16537600    input_9[0][0]                    \n",
      "____________________________________________________________________________________________________\n",
      "conv1d_17 (Conv1D)               (None, 96, 128)       82048       embedding_14[0][0]               \n",
      "____________________________________________________________________________________________________\n",
      "conv1d_19 (Conv1D)               (None, 94, 128)       114816      embedding_14[0][0]               \n",
      "____________________________________________________________________________________________________\n",
      "dropout_48 (Dropout)             (None, 96, 128)       0           conv1d_17[0][0]                  \n",
      "____________________________________________________________________________________________________\n",
      "dropout_50 (Dropout)             (None, 94, 128)       0           conv1d_19[0][0]                  \n",
      "____________________________________________________________________________________________________\n",
      "conv1d_18 (Conv1D)               (None, 94, 128)       49280       dropout_48[0][0]                 \n",
      "____________________________________________________________________________________________________\n",
      "conv1d_20 (Conv1D)               (None, 92, 128)       49280       dropout_50[0][0]                 \n",
      "____________________________________________________________________________________________________\n",
      "conv1d_21 (Conv1D)               (None, 98, 128)       49280       embedding_14[0][0]               \n",
      "____________________________________________________________________________________________________\n",
      "lstm_53 (LSTM)                   (None, 100, 256)      394240      embedding_14[0][0]               \n",
      "____________________________________________________________________________________________________\n",
      "average_pooling1d_1 (AveragePool (None, 93, 128)       0           conv1d_18[0][0]                  \n",
      "____________________________________________________________________________________________________\n",
      "average_pooling1d_2 (AveragePool (None, 91, 128)       0           conv1d_20[0][0]                  \n",
      "____________________________________________________________________________________________________\n",
      "max_pooling1d_12 (MaxPooling1D)  (None, 96, 128)       0           conv1d_21[0][0]                  \n",
      "____________________________________________________________________________________________________\n",
      "conv1d_22 (Conv1D)               (None, 98, 96)        73824       lstm_53[0][0]                    \n",
      "____________________________________________________________________________________________________\n",
      "dropout_49 (Dropout)             (None, 93, 128)       0           average_pooling1d_1[0][0]        \n",
      "____________________________________________________________________________________________________\n",
      "dropout_51 (Dropout)             (None, 91, 128)       0           average_pooling1d_2[0][0]        \n",
      "____________________________________________________________________________________________________\n",
      "dropout_52 (Dropout)             (None, 96, 128)       0           max_pooling1d_12[0][0]           \n",
      "____________________________________________________________________________________________________\n",
      "max_pooling1d_13 (MaxPooling1D)  (None, 97, 96)        0           conv1d_22[0][0]                  \n",
      "____________________________________________________________________________________________________\n",
      "lstm_47 (LSTM)                   (None, 93, 256)       394240      dropout_49[0][0]                 \n",
      "____________________________________________________________________________________________________\n",
      "lstm_49 (LSTM)                   (None, 91, 256)       394240      dropout_51[0][0]                 \n",
      "____________________________________________________________________________________________________\n",
      "lstm_51 (LSTM)                   (None, 96, 256)       394240      dropout_52[0][0]                 \n",
      "____________________________________________________________________________________________________\n",
      "dropout_53 (Dropout)             (None, 97, 96)        0           max_pooling1d_13[0][0]           \n",
      "____________________________________________________________________________________________________\n",
      "lstm_55 (LSTM)                   (None, 100, 256)      394240      embedding_14[0][0]               \n",
      "____________________________________________________________________________________________________\n",
      "lstm_48 (LSTM)                   (None, 128)           197120      lstm_47[0][0]                    \n",
      "____________________________________________________________________________________________________\n",
      "lstm_50 (LSTM)                   (None, 128)           197120      lstm_49[0][0]                    \n",
      "____________________________________________________________________________________________________\n",
      "lstm_52 (LSTM)                   (None, 128)           197120      lstm_51[0][0]                    \n",
      "____________________________________________________________________________________________________\n",
      "lstm_54 (LSTM)                   (None, 128)           115200      dropout_53[0][0]                 \n",
      "____________________________________________________________________________________________________\n",
      "lstm_56 (LSTM)                   (None, 128)           197120      lstm_55[0][0]                    \n",
      "____________________________________________________________________________________________________\n",
      "concatenate_7 (Concatenate)      (None, 640)           0           lstm_48[0][0]                    \n",
      "                                                                   lstm_50[0][0]                    \n",
      "                                                                   lstm_52[0][0]                    \n",
      "                                                                   lstm_54[0][0]                    \n",
      "                                                                   lstm_56[0][0]                    \n",
      "____________________________________________________________________________________________________\n",
      "dropout_54 (Dropout)             (None, 640)           0           concatenate_7[0][0]              \n",
      "____________________________________________________________________________________________________\n",
      "dense_35 (Dense)                 (None, 1024)          656384      dropout_54[0][0]                 \n",
      "____________________________________________________________________________________________________\n",
      "dropout_55 (Dropout)             (None, 1024)          0           dense_35[0][0]                   \n",
      "____________________________________________________________________________________________________\n",
      "dense_36 (Dense)                 (None, 512)           524800      dropout_55[0][0]                 \n",
      "____________________________________________________________________________________________________\n",
      "dropout_56 (Dropout)             (None, 512)           0           dense_36[0][0]                   \n",
      "____________________________________________________________________________________________________\n",
      "dense_37 (Dense)                 (None, 2)             1026        dropout_56[0][0]                 \n",
      "====================================================================================================\n",
      "Total params: 21,013,218\n",
      "Trainable params: 21,013,218\n",
      "Non-trainable params: 0\n",
      "____________________________________________________________________________________________________\n",
      "Train on 180000 samples, validate on 20000 samples\n",
      "Epoch 1/10\n",
      "180000/180000 [==============================] - 541s - loss: 0.4675 - categorical_accuracy: 0.7812 - val_loss: 0.4262 - val_categorical_accuracy: 0.8082\n",
      "Epoch 2/10\n"
     ]
    },
    {
     "name": "stdout",
     "output_type": "stream",
     "text": [
      "180000/180000 [==============================] - 465s - loss: 0.4104 - categorical_accuracy: 0.8162 - val_loss: 0.3975 - val_categorical_accuracy: 0.8196\n",
      "Epoch 3/10\n",
      "180000/180000 [==============================] - 492s - loss: 0.3780 - categorical_accuracy: 0.8341 - val_loss: 0.3968 - val_categorical_accuracy: 0.8216\n",
      "Epoch 4/10\n",
      "180000/180000 [==============================] - 544s - loss: 0.3445 - categorical_accuracy: 0.8510 - val_loss: 0.4017 - val_categorical_accuracy: 0.8223\n",
      "Epoch 5/10\n",
      "180000/180000 [==============================] - 551s - loss: 0.2695 - categorical_accuracy: 0.8877 - val_loss: 0.4858 - val_categorical_accuracy: 0.8111\n",
      "Epoch 7/10\n",
      "180000/180000 [==============================] - 545s - loss: 0.2352 - categorical_accuracy: 0.9027 - val_loss: 0.5131 - val_categorical_accuracy: 0.8044\n",
      "Epoch 8/10\n",
      "180000/180000 [==============================] - 530s - loss: 0.2073 - categorical_accuracy: 0.9150 - val_loss: 0.5731 - val_categorical_accuracy: 0.8042\n"
     ]
    }
   ],
   "source": [
    "## 練習自己建以及使用Merge\n",
    "## min_c = 3 , use SKIPGRAM\n",
    "def build(weight_matrix , vocab):\n",
    "    embedding_vecor_length = weight_matrix.shape[1]\n",
    "    word_total_index = len(vocab)\n",
    "\n",
    "    forget_bias_bool=False #default is False\n",
    "    recu_drop_rate=0.2\n",
    "    drop_rate=0.2\n",
    "    back_bool=True #default False\n",
    "    unroll_bool=True #default is False. This can speed up but consume more memory\n",
    "    multi_layer_bool=True #default False\n",
    "\n",
    "    my_input = Input(shape = (max_review_length,))\n",
    "    embd = Embedding(word_total_index, embedding_vecor_length, input_length=max_review_length,\n",
    "                       weights = [weight_matrix])(my_input)\n",
    "\n",
    "    block1_1 = Conv1D(128,5,strides=1,activation='relu')(embd)\n",
    "    block1_1 = Dropout(0.2)(block1_1)\n",
    "    block1_1 = Conv1D(128,3,strides=1,activation='relu')(block1_1)\n",
    "    block1_1 = AveragePooling1D(2,strides=1)(block1_1)\n",
    "    block1_1 = Dropout(0.2)(block1_1)\n",
    "    block1_1 = LSTM(256,\n",
    "                  unit_forget_bias=forget_bias_bool,\n",
    "                  recurrent_dropout=recu_drop_rate,\n",
    "                  dropout=drop_rate,\n",
    "                  go_backwards=back_bool,\n",
    "                  unroll=unroll_bool,\n",
    "                  return_sequences=multi_layer_bool)(block1_1)\n",
    "    block1_1 = LSTM(128,\n",
    "                  unit_forget_bias=forget_bias_bool,\n",
    "                  recurrent_dropout=recu_drop_rate,\n",
    "                  dropout=drop_rate,\n",
    "                  go_backwards=back_bool,\n",
    "                  unroll=unroll_bool,\n",
    "                  return_sequences=False)(block1_1)    \n",
    "    #block1_1 = Dense(256,activation='relu')(block1_1)\n",
    "\n",
    "\n",
    "    block1_2 = Conv1D(128,7,strides=1,activation='relu')(embd)\n",
    "    block1_2 = Dropout(0.2)(block1_2)\n",
    "    block1_2 = Conv1D(128,3,strides=1,activation='relu')(block1_2)\n",
    "    block1_2 = AveragePooling1D(2,strides=1)(block1_2)\n",
    "    block1_2 = Dropout(0.2)(block1_2)\n",
    "    block1_2 = LSTM(256,\n",
    "                  unit_forget_bias=forget_bias_bool,\n",
    "                  recurrent_dropout=recu_drop_rate,\n",
    "                  dropout=drop_rate,\n",
    "                  go_backwards=back_bool,\n",
    "                  unroll=unroll_bool,\n",
    "                  return_sequences=multi_layer_bool )(block1_2)\n",
    "    block1_2 = LSTM(128,\n",
    "                  unit_forget_bias=forget_bias_bool,\n",
    "                  recurrent_dropout=recu_drop_rate,\n",
    "                  dropout=drop_rate,\n",
    "                  go_backwards=back_bool,\n",
    "                  unroll=unroll_bool,\n",
    "                  return_sequences=False )(block1_2)\n",
    "    #block1_2 = Dense(256,activation='relu')(block1_2)\n",
    "\n",
    "    \n",
    "    block1_3 = Conv1D(128,3,strides=1,activation='relu')(embd)\n",
    "    block1_3 = MaxPooling1D(3,strides=1)(block1_3)\n",
    "    block1_3 = Dropout(0.2)(block1_3)\n",
    "    block1_3 = LSTM(256,\n",
    "                  unit_forget_bias=forget_bias_bool,\n",
    "                  recurrent_dropout=recu_drop_rate,\n",
    "                  dropout=drop_rate,\n",
    "                  go_backwards=back_bool,\n",
    "                  unroll=unroll_bool,\n",
    "                  return_sequences=multi_layer_bool )(block1_3)\n",
    "    block1_3 = LSTM(128,\n",
    "                  unit_forget_bias=forget_bias_bool,\n",
    "                  recurrent_dropout=recu_drop_rate,\n",
    "                  dropout=drop_rate,\n",
    "                  go_backwards=back_bool,\n",
    "                  unroll=unroll_bool,\n",
    "                  return_sequences=False )(block1_3)    \n",
    "    #block1_3 = Dense(256,activation='relu')(block1_3)\n",
    "\n",
    "    \n",
    "    block1_4 = LSTM(256,\n",
    "                  unit_forget_bias=forget_bias_bool,\n",
    "                  recurrent_dropout=recu_drop_rate,\n",
    "                  dropout=drop_rate,\n",
    "                  go_backwards=back_bool,\n",
    "                  unroll=unroll_bool,\n",
    "                  return_sequences=multi_layer_bool )(embd)\n",
    "    block1_4 = Conv1D(96,3,strides=1,activation='relu')(block1_4)\n",
    "    block1_4 = MaxPooling1D(2,strides=1)(block1_4)\n",
    "    block1_4 = Dropout(0.2)(block1_4)\n",
    "    block1_4 = LSTM(128,\n",
    "                  unit_forget_bias=forget_bias_bool,\n",
    "                  recurrent_dropout=recu_drop_rate,\n",
    "                  dropout=drop_rate,\n",
    "                  go_backwards=back_bool,\n",
    "                  unroll=unroll_bool,\n",
    "                  return_sequences=False )(block1_4)    \n",
    "    #block1_4 = Dense(256,activation='relu')(block1_4)    \n",
    "    \n",
    "    \n",
    "    lstm_1 = LSTM(256,\n",
    "                  unit_forget_bias=forget_bias_bool,\n",
    "                  recurrent_dropout=recu_drop_rate,\n",
    "                  dropout=drop_rate,\n",
    "                  go_backwards=back_bool,\n",
    "                  unroll=unroll_bool,\n",
    "                  return_sequences=multi_layer_bool )(embd)\n",
    "    lstm_1 = LSTM(128,\n",
    "                  unit_forget_bias=forget_bias_bool,\n",
    "                  recurrent_dropout=recu_drop_rate,\n",
    "                  dropout=drop_rate,\n",
    "                  go_backwards=back_bool,\n",
    "                  unroll=unroll_bool,\n",
    "                  return_sequences=False )(lstm_1)    \n",
    "    #lstm_1 = Dense(256,activation='relu')(lstm_1)\n",
    "\n",
    "    \n",
    "    block2 = Concatenate()([block1_1 , block1_2 , block1_3 , block1_4 , lstm_1])\n",
    "    block2 = Dropout(0.5)(block2)\n",
    "    \n",
    "    fc1 = Dense(1024,activation='relu',kernel_regularizer=regularizers.l2(0.1))(block2)\n",
    "    fc1 = Dropout(0.5)(fc1)\n",
    "    \n",
    "    fc2 = Dense(512,activation='relu',kernel_regularizer=regularizers.l2(0.1))(fc1)\n",
    "    fc2 = Dropout(0.5)(fc2)\n",
    "    \n",
    "    my_output = Dense(2,activation='softmax')(fc2)\n",
    "\n",
    "    model = Model(inputs=my_input , outputs=my_output)\n",
    "    model.compile(loss='categorical_crossentropy', optimizer='adam', metrics=['categorical_accuracy'])\n",
    "    model.summary()\n",
    "    \n",
    "    return model\n",
    "\n",
    "try:\n",
    "    del model\n",
    "except NameError:\n",
    "    pass\n",
    "\n",
    "model = build(weight_matrix , vocab)\n",
    "    \n",
    "n_batch = 256\n",
    "n_epoch = 10\n",
    "\n",
    "earlystopping=EarlyStopping(monitor='val_categorical_accuracy', patience=3, verbose=0, mode='auto')\n",
    "history = History()\n",
    "\n",
    "hist_lstm = model.fit(X_train , Y_train ,\n",
    "                      batch_size = n_batch,epochs=n_epoch,\n",
    "                      callbacks=[earlystopping,history],\n",
    "                      validation_split=0.1)"
   ]
  },
  {
   "cell_type": "code",
   "execution_count": null,
   "metadata": {},
   "outputs": [],
   "source": [
    "from keras.utils.vis_utils import plot_model\n",
    "plot_model(model ,to_file='RCNN_1st.png')"
   ]
  },
  {
   "cell_type": "code",
   "execution_count": 15,
   "metadata": {
    "scrolled": true
   },
   "outputs": [
    {
     "data": {
      "image/png": "[encoded data removed]",
      "text/plain": [
       "<matplotlib.figure.Figure at 0x7f3b0ff86470>"
      ]
     },
     "metadata": {},
     "output_type": "display_data"
    }
   ],
   "source": [
    "hist_dict = hist_lstm.history\n",
    "\n",
    "fig = plt.figure(figsize=(8,4))\n",
    "ax = fig.add_subplot(111)\n",
    "for key in ['categorical_accuracy' , 'val_categorical_accuracy']:\n",
    "    y = hist_dict[key]\n",
    "    ax.plot(y,label=key)\n",
    "    max_index = np.argsort(y)[-1]\n",
    "    ax.annotate('{0:.3f}'.format(y[max_index]) , xy =(max_index , y[max_index]+0.002),horizontalalignment='center' )\n",
    "\n",
    "plt.legend()    \n",
    "plt.show()"
   ]
  },
  {
   "cell_type": "code",
   "execution_count": null,
   "metadata": {
    "scrolled": true
   },
   "outputs": [],
   "source": [
    "## 練習自己建以及使用Merge\n",
    "\n",
    "def build(weight_matrix , vocab):\n",
    "    embedding_vecor_length = weight_matrix.shape[1]\n",
    "    word_total_index = len(vocab)\n",
    "\n",
    "    forget_bias_bool=False #default is False\n",
    "    recu_drop_rate=0.2\n",
    "    drop_rate=0.2\n",
    "    back_bool=False #default False\n",
    "    unroll_bool=True #default is False. This can speed up but consume more memory\n",
    "    multi_layer_bool=True #default False\n",
    "\n",
    "    my_input = Input(shape = (max_review_length,))\n",
    "    embd = Embedding(word_total_index, embedding_vecor_length, input_length=max_review_length,\n",
    "                       weights = [weight_matrix])(my_input)\n",
    "    \n",
    "    block1_1 = LSTM(256,\n",
    "                  unit_forget_bias=forget_bias_bool,\n",
    "                  recurrent_dropout=recu_drop_rate,\n",
    "                  dropout=drop_rate,\n",
    "                  go_backwards=True,\n",
    "                  unroll=unroll_bool,\n",
    "                  return_sequences=True )(embd)  \n",
    "    lstm1_1 = LSTM(128,\n",
    "                  unit_forget_bias=forget_bias_bool,\n",
    "                  recurrent_dropout=recu_drop_rate,\n",
    "                  dropout=drop_rate,\n",
    "                  go_backwards=back_bool,\n",
    "                  unroll=unroll_bool,\n",
    "                  return_sequences=False )(block1_1)  \n",
    "    block1_1 = Conv1D(256,5,strides=1,activation='relu')(block1_1)\n",
    "    #block1_1 = Conv1D(128,3,strides=1,activation='relu')(block1_1)\n",
    "    block1_1 = ZeroPadding1D(1)(block1_1)\n",
    "    block1_1 = MaxPooling1D(3,strides=1)(block1_1)\n",
    "    block1_1 = Dropout(0.2)(block1_1)\n",
    "    \n",
    "    block1_2 = LSTM(256,\n",
    "                  unit_forget_bias=forget_bias_bool,\n",
    "                  recurrent_dropout=recu_drop_rate,\n",
    "                  dropout=drop_rate,\n",
    "                  go_backwards=back_bool,\n",
    "                  unroll=unroll_bool,\n",
    "                  return_sequences=True )(block1_1)  \n",
    "    lstm1_2 = LSTM(128,\n",
    "                  unit_forget_bias=forget_bias_bool,\n",
    "                  recurrent_dropout=recu_drop_rate,\n",
    "                  dropout=drop_rate,\n",
    "                  go_backwards=back_bool,\n",
    "                  unroll=unroll_bool,\n",
    "                  return_sequences=False )(block1_2)\n",
    "    \n",
    "    #block1_2 = Conv1D(128,5,strides=1,activation='relu')(block1_2)\n",
    "    block1_2 = Dropout(0.2)(block1_2)\n",
    "    block1_2 = Conv1D(256,3,strides=1,activation='relu')(block1_2)\n",
    "    block1_2 = ZeroPadding1D(1)(block1_2)\n",
    "    block1_2 = MaxPooling1D(3,strides=1)(block1_2)\n",
    "    block1_2 = Dropout(0.2)(block1_2)\n",
    "    \n",
    "    block1_3 = LSTM(256,\n",
    "                  unit_forget_bias=forget_bias_bool,\n",
    "                  recurrent_dropout=recu_drop_rate,\n",
    "                  dropout=drop_rate,\n",
    "                  go_backwards=back_bool,\n",
    "                  unroll=unroll_bool,\n",
    "                  return_sequences=True )(block1_2)  \n",
    "    lstm1_3 = LSTM(128,\n",
    "                  unit_forget_bias=forget_bias_bool,\n",
    "                  recurrent_dropout=recu_drop_rate,\n",
    "                  dropout=drop_rate,\n",
    "                  go_backwards=back_bool,\n",
    "                  unroll=unroll_bool,\n",
    "                  return_sequences=False )(block1_3)\n",
    "    \n",
    "    \n",
    "    block2 = Concatenate()([lstm1_1,lstm1_2,lstm1_3])\n",
    "    block2 = Dropout(0.25)(block2)\n",
    "    \n",
    "    fc1 = Dense(512,activation='relu',kernel_regularizer=regularizers.l2(0.1))(block2)\n",
    "    fc1 = Dropout(0.5)(fc1)\n",
    "    \n",
    "    fc2 = Dense(256,activation='relu',kernel_regularizer=regularizers.l2(0.1))(fc1)\n",
    "    fc2 = Dropout(0.5)(fc2)\n",
    "    \n",
    "    fc3 = Dense(256,activation='relu',kernel_regularizer=regularizers.l2(0.1))(fc2)\n",
    "    fc3 = Dropout(0.5)(fc3)\n",
    "    \n",
    "    my_output = Dense(2,activation='softmax')(fc3)\n",
    "\n",
    "    model = Model(inputs=my_input , outputs=my_output)\n",
    "    model.compile(loss='categorical_crossentropy', optimizer='adam', metrics=['categorical_accuracy'])\n",
    "    model.summary()\n",
    "    \n",
    "    return model\n",
    "\n",
    "try:\n",
    "    del model\n",
    "except NameError:\n",
    "    pass\n",
    "\n",
    "model = build(weight_matrix , vocab)\n",
    "    \n",
    "n_batch = 256\n",
    "n_epoch = 10\n",
    "\n",
    "earlystopping=EarlyStopping(monitor='val_categorical_accuracy', patience=3, verbose=0, mode='auto')\n",
    "history = History()\n",
    "\n",
    "hist_lstm = model.fit(X_train , Y_train ,\n",
    "                      batch_size = n_batch,epochs=n_epoch,\n",
    "                      callbacks=[earlystopping,history],\n",
    "                      validation_split=0.1)"
   ]
  },
  {
   "cell_type": "code",
   "execution_count": 22,
   "metadata": {
    "scrolled": false
   },
   "outputs": [
    {
     "data": {
      "image/png": "[encoded data removed]",
      "text/plain": [
       "<matplotlib.figure.Figure at 0x7fbfc6f4aa20>"
      ]
     },
     "metadata": {},
     "output_type": "display_data"
    }
   ],
   "source": [
    "hist_dict = hist_lstm.history\n",
    "\n",
    "fig = plt.figure(figsize=(8,4))\n",
    "ax = fig.add_subplot(111)\n",
    "for key in ['categorical_accuracy' , 'val_categorical_accuracy']:\n",
    "    y = hist_dict[key]\n",
    "    ax.plot(y,label=key)\n",
    "    max_index = np.argsort(y)[-1]\n",
    "    ax.annotate('{0:.3f}'.format(y[max_index]) , xy =(max_index , y[max_index]+0.002),horizontalalignment='center' )\n",
    "\n",
    "plt.legend()    \n",
    "plt.show()"
   ]
  },
  {
   "cell_type": "code",
   "execution_count": 33,
   "metadata": {},
   "outputs": [
    {
     "name": "stdout",
     "output_type": "stream",
     "text": [
      "The model is saved.\n"
     ]
    }
   ],
   "source": [
    "## Save model\n",
    "save_model=True\n",
    "model_path=os.path.join(para_path,'CRNN_1st.h5')\n",
    "\n",
    "if save_model:\n",
    "    model.save(model_path)\n",
    "    print(\"The model is saved.\")"
   ]
  },
  {
   "cell_type": "markdown",
   "metadata": {},
   "source": [
    "## predict ouput"
   ]
  },
  {
   "cell_type": "code",
   "execution_count": 32,
   "metadata": {},
   "outputs": [
    {
     "name": "stdout",
     "output_type": "stream",
     "text": [
      "Shape of predict of test :  (200000, 2)\n"
     ]
    }
   ],
   "source": [
    "pred_y = model.predict(X_test,batch_size=n_batch)\n",
    "\n",
    "print(\"Shape of predict of test : \",pred_y.shape)\n",
    "\n",
    "predict_path = \"/home/derricksu/pred/CRNN_11_29.csv\"\n",
    "\n",
    "with open(predict_path , \"w\" , encoding = \"utf-8\") as f :\n",
    "    f.write(\"id,label\\n\")\n",
    "    for i ,pre in enumerate(pred_y):\n",
    "        f.write( \"{0},{1}\\n\".format( i , np.argmax(pre) ) )\n",
    "    f.close()"
   ]
  },
  {
   "cell_type": "markdown",
   "metadata": {},
   "source": [
    "### First trial\n",
    "    min_c = 5\n",
    "    iter = 30\n",
    "    lstm units = 128\n",
    "    dense = 128\n",
    "    dropout = 0.5\n",
    "    dense = 2"
   ]
  },
  {
   "cell_type": "markdown",
   "metadata": {},
   "source": [
    "## Second trial\n",
    "\n",
    "    bag of word : word2vec_2nd.bin\n",
    "    word_freq   : word_freq_2nd.pk\n",
    "    model       : lstm_11_26.h5  (lstm 128 > 256 > NN256 >2)"
   ]
  }
 ],
 "metadata": {
  "kernelspec": {
   "display_name": "Python 3",
   "language": "python",
   "name": "python3"
  },
  "language_info": {
   "codemirror_mode": {
    "name": "ipython",
    "version": 3
   },
   "file_extension": ".py",
   "mimetype": "text/x-python",
   "name": "python",
   "nbconvert_exporter": "python",
   "pygments_lexer": "ipython3",
   "version": "3.5.2"
  }
 },
 "nbformat": 4,
 "nbformat_minor": 2
}
