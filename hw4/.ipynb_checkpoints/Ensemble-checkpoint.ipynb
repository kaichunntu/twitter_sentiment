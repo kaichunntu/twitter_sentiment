{
 "cells": [
  {
   "cell_type": "code",
   "execution_count": 1,
   "metadata": {},
   "outputs": [],
   "source": [
    "import os\n",
    "import numpy as np\n",
    "import matplotlib.pyplot as plt\n",
    "from gensim.models import Word2Vec\n",
    "from my_method import *\n",
    "\n",
    "model=None\n",
    "para_path = '/home/derricksu/model_para'"
   ]
  },
  {
   "cell_type": "code",
   "execution_count": 2,
   "metadata": {},
   "outputs": [],
   "source": [
    "directory=['lstm_11_26','lstm_11_27','RCNN']\n",
    "max_review_length = 100\n",
    "min_c = [5,3,3]\n",
    "model_name = ['lstm_11_26.h5','lstm_11_27_1.h5','CRNN_1st.h5']\n",
    "word_freq_name = ['word_freq_2nd.pk','word_freq.pk','word_freq.pk']\n",
    "word2vec_name = ['word2vec_2nd.bin','word2vec.bin','word2vec.bin']"
   ]
  },
  {
   "cell_type": "code",
   "execution_count": 8,
   "metadata": {},
   "outputs": [
    {
     "name": "stdout",
     "output_type": "stream",
     "text": [
      "0 done.\n",
      "1 done.\n",
      "2 done.\n"
     ]
    }
   ],
   "source": [
    "from keras.models import load_model\n",
    "from keras.preprocessing import sequence\n",
    "\n",
    "X = load_test(\"/home/derricksu/ML_data/hw4/test.npy\")\n",
    "X = prod_sentence(X)\n",
    "\n",
    "max_review_length=100\n",
    "\n",
    "all_pred_y = []\n",
    "for i in range(3):\n",
    "    dir_path = os.path.join(para_path,directory[i])\n",
    "    word_freq_path = os.path.join(dir_path,word_freq_name[i])\n",
    "    word2vec_path = os.path.join(dir_path,word2vec_name[i])\n",
    "    model_path = os.path.join(dir_path,model_name[i])\n",
    "    \n",
    "    word_freq = load_word_freq(word_freq_path)\n",
    "    weight_matrix , vocab = load_word2vec(word2vec_path)    \n",
    "    model = load_model(model_path)\n",
    "    \n",
    "    X_test = word2idx(X , min_c[i] , vocab,word_freq)\n",
    "    X_test = sequence.pad_sequences(X_test, maxlen=max_review_length)\n",
    "    pred_y = model.predict(X_test,batch_size=256)\n",
    "    all_pred_y.append(pred_y)\n",
    "    \n",
    "    del model\n",
    "    \n",
    "    print(\"{} done.\".format(i))"
   ]
  },
  {
   "cell_type": "code",
   "execution_count": 9,
   "metadata": {
    "scrolled": true
   },
   "outputs": [
    {
     "name": "stdout",
     "output_type": "stream",
     "text": [
      "(200000, 2)\n",
      "(200000, 2)\n",
      "(200000, 2)\n"
     ]
    }
   ],
   "source": [
    "all_predict = all_pred_y[0]\n",
    "for i in all_pred_y[1::]:\n",
    "    all_predict = np.concatenate((all_predict,i),axis = 1)"
   ]
  },
  {
   "cell_type": "code",
   "execution_count": 24,
   "metadata": {},
   "outputs": [],
   "source": [
    "all_predict=np.zeros_like(all_pred_y[0][:,0])\n",
    "for i in range(3):\n",
    "    all_predict+=np.apply_along_axis(np.argmax,axis=1,arr=all_pred_y[i])\n",
    "for i in range(all_predict.shape[0]):\n",
    "    if all_predict[i]>=2:\n",
    "        all_predict[i]=1"
   ]
  },
  {
   "cell_type": "code",
   "execution_count": 29,
   "metadata": {
    "scrolled": true
   },
   "outputs": [
    {
     "data": {
      "text/plain": [
       "(200000,)"
      ]
     },
     "execution_count": 29,
     "metadata": {},
     "output_type": "execute_result"
    }
   ],
   "source": [
    "all_predict = all_predict.astype('int')"
   ]
  },
  {
   "cell_type": "code",
   "execution_count": 28,
   "metadata": {},
   "outputs": [],
   "source": [
    "predict_path = \"/home/derricksu/pred/ensemble_11_30.csv\"\n",
    "\n",
    "with open(predict_path , \"w\" , encoding = \"utf-8\") as f :\n",
    "    f.write(\"id,label\\n\")\n",
    "    for i ,pre in enumerate(all_predict):\n",
    "        f.write( \"{0},{1}\\n\".format( i , pre ) )\n",
    "    f.close()"
   ]
  }
 ],
 "metadata": {
  "kernelspec": {
   "display_name": "Python 3",
   "language": "python",
   "name": "python3"
  },
  "language_info": {
   "codemirror_mode": {
    "name": "ipython",
    "version": 3
   },
   "file_extension": ".py",
   "mimetype": "text/x-python",
   "name": "python",
   "nbconvert_exporter": "python",
   "pygments_lexer": "ipython3",
   "version": "3.5.2"
  }
 },
 "nbformat": 4,
 "nbformat_minor": 2
}
